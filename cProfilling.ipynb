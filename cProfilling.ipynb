{
 "cells": [
  {
   "cell_type": "markdown",
   "id": "39d35117-ebdc-4e14-91c4-f786ca8e942d",
   "metadata": {},
   "source": [
    "## Start with cProfilling"
   ]
  },
  {
   "cell_type": "code",
   "execution_count": 2,
   "id": "b02f79d0-083e-4bba-b758-004f424ae8d1",
   "metadata": {},
   "outputs": [
    {
     "name": "stdout",
     "output_type": "stream",
     "text": [
      "Wed Dec  6 09:06:54 2023    profile_stats\n",
      "\n",
      "         4 function calls in 0.001 seconds\n",
      "\n",
      "   Ordered by: cumulative time\n",
      "\n",
      "   ncalls  tottime  percall  cumtime  percall filename:lineno(function)\n",
      "        1    0.000    0.000    0.001    0.001 {built-in method builtins.exec}\n",
      "        1    0.000    0.000    0.001    0.001 <string>:1(<module>)\n",
      "        1    0.001    0.001    0.001    0.001 /tmp/ipykernel_17206/745881689.py:4(sample_function)\n",
      "        1    0.000    0.000    0.000    0.000 {method 'disable' of '_lsprof.Profiler' objects}\n",
      "\n",
      "\n"
     ]
    },
    {
     "data": {
      "text/plain": [
       "<pstats.Stats at 0x2aee23a90110>"
      ]
     },
     "execution_count": 2,
     "metadata": {},
     "output_type": "execute_result"
    }
   ],
   "source": [
    "import cProfile\n",
    "import pstats\n",
    "\n",
    "def sample_function():\n",
    "    # Some code here to profile\n",
    "    sum = 0\n",
    "    for i in range(10000):\n",
    "        sum += i\n",
    "    return sum\n",
    "\n",
    "# Profiling the function\n",
    "cProfile.run('sample_function()', 'profile_stats')\n",
    "\n",
    "# Reading the stats\n",
    "p = pstats.Stats('profile_stats')\n",
    "p.sort_stats('cumulative').print_stats(10)  # prints the top 10 functions where time was spent\n"
   ]
  },
  {
   "cell_type": "code",
   "execution_count": 3,
   "id": "5b6d4a7a-4b28-445c-9ecc-5f445f6eb7c5",
   "metadata": {},
   "outputs": [],
   "source": [
    "# example.py\n",
    "def compute():\n",
    "    data = [i for i in range(1000000)]\n",
    "    sum = 0\n",
    "    for i in data:\n",
    "        sum += i\n",
    "    return sum\n",
    "\n",
    "if __name__ == \"__main__\":\n",
    "    compute()\n"
   ]
  },
  {
   "cell_type": "code",
   "execution_count": 2,
   "id": "8d4eaae4-e3eb-46bb-8da7-b65b8f09a4d4",
   "metadata": {},
   "outputs": [
    {
     "name": "stdout",
     "output_type": "stream",
     "text": [
      "==32138== Cachegrind, a high-precision tracing profiler\n",
      "==32138== Copyright (C) 2002-2017, and GNU GPL'd, by Nicholas Nethercote et al.\n",
      "==32138== Using Valgrind-3.22.0 and LibVEX; rerun with -h for copyright info\n",
      "==32138== Command: python compute.py\n",
      "==32138== \n",
      "==32138== brk segment overflow in thread #1: can't grow to 0x4aae000\n",
      "==32138== (see section Limitations in user manual)\n",
      "==32138== NOTE: further instances of this message will not be shown\n",
      "==32138== \n",
      "==32138== I refs:        555,382,806\n"
     ]
    }
   ],
   "source": [
    "!valgrind --tool=cachegrind python compute.py"
   ]
  },
  {
   "cell_type": "markdown",
   "id": "5fe83392-6c6b-437c-8173-0d384c7743e1",
   "metadata": {},
   "source": [
    "> *I refs:        555,382,806 --> It's a count of how many instructions were fetched from memory.*"
   ]
  },
  {
   "cell_type": "code",
   "execution_count": 11,
   "id": "8d70ee80-17de-43b2-ab9a-fbad8ad9e89b",
   "metadata": {},
   "outputs": [
    {
     "name": "stdout",
     "output_type": "stream",
     "text": [
      "==46604== Cachegrind, a high-precision tracing profiler\n",
      "==46604== Copyright (C) 2002-2017, and GNU GPL'd, by Nicholas Nethercote et al.\n",
      "==46604== Using Valgrind-3.22.0 and LibVEX; rerun with -h for copyright info\n",
      "==46604== Command: python cache_miss_example.py\n",
      "==46604== \n",
      "--46604-- warning: L3 cache found, using its data for the LL simulation.\n",
      "==46604== brk segment overflow in thread #1: can't grow to 0x4aae000\n",
      "==46604== (see section Limitations in user manual)\n",
      "==46604== NOTE: further instances of this message will not be shown\n",
      "==46604== \n",
      "==46604== I refs:        45,279,686\n",
      "==46604== I1  misses:       309,482\n",
      "==46604== LLi misses:        12,256\n",
      "==46604== I1  miss rate:       0.68%\n",
      "==46604== LLi miss rate:       0.03%\n",
      "==46604== \n",
      "==46604== D refs:        17,704,202  (12,369,727 rd   + 5,334,475 wr)\n",
      "==46604== D1  misses:       679,043  (   621,510 rd   +    57,533 wr)\n",
      "==46604== LLd misses:        49,189  (    20,572 rd   +    28,617 wr)\n",
      "==46604== D1  miss rate:        3.8% (       5.0%     +       1.1%  )\n",
      "==46604== LLd miss rate:        0.3% (       0.2%     +       0.5%  )\n",
      "==46604== \n",
      "==46604== LL refs:          988,525  (   930,992 rd   +    57,533 wr)\n",
      "==46604== LL misses:         61,445  (    32,828 rd   +    28,617 wr)\n",
      "==46604== LL miss rate:         0.1% (       0.1%     +       0.5%  )\n"
     ]
    }
   ],
   "source": [
    "# !valgrind --tool=cachegrind python cache_miss_example.py\n",
    "!valgrind --tool=cachegrind --cache-sim=yes python cache_miss_example.py"
   ]
  },
  {
   "cell_type": "code",
   "execution_count": null,
   "id": "7fe42f79-3663-4099-aaa9-6a2ede78953f",
   "metadata": {},
   "outputs": [],
   "source": []
  }
 ],
 "metadata": {
  "kernelspec": {
   "display_name": "Python [conda env:cachemisses]",
   "language": "python",
   "name": "conda-env-cachemisses-py"
  },
  "language_info": {
   "codemirror_mode": {
    "name": "ipython",
    "version": 3
   },
   "file_extension": ".py",
   "mimetype": "text/x-python",
   "name": "python",
   "nbconvert_exporter": "python",
   "pygments_lexer": "ipython3",
   "version": "3.11.5"
  }
 },
 "nbformat": 4,
 "nbformat_minor": 5
}
